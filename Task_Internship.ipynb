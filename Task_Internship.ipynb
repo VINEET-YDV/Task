{
 "cells": [
  {
   "cell_type": "code",
   "execution_count": 1,
   "metadata": {
    "colab": {
     "base_uri": "https://localhost:8080/"
    },
    "executionInfo": {
     "elapsed": 7101,
     "status": "ok",
     "timestamp": 1752658528594,
     "user": {
      "displayName": "Vineet Yadav",
      "userId": "10217982080212654604"
     },
     "user_tz": -330
    },
    "id": "c-SBntM1g_GS",
    "outputId": "59dab8c9-79fe-48b6-ce41-2aa0db309b47"
   },
   "outputs": [
    {
     "name": "stdout",
     "output_type": "stream",
     "text": [
      "Requirement already satisfied: google-play-scraper in c:\\users\\admin\\anaconda3\\lib\\site-packages (1.2.7)\n",
      "Note: you may need to restart the kernel to use updated packages.\n"
     ]
    }
   ],
   "source": [
    "pip install google-play-scraper"
   ]
  },
  {
   "cell_type": "code",
   "execution_count": 2,
   "metadata": {
    "colab": {
     "base_uri": "https://localhost:8080/"
    },
    "executionInfo": {
     "elapsed": 138209,
     "status": "ok",
     "timestamp": 1752658687597,
     "user": {
      "displayName": "Vineet Yadav",
      "userId": "10217982080212654604"
     },
     "user_tz": -330
    },
    "id": "jC-u7B1bhFZS",
    "outputId": "aea991a0-3af9-4e3c-f18c-d03c1d8a1f6e"
   },
   "outputs": [
    {
     "name": "stdout",
     "output_type": "stream",
     "text": [
      "Fetched batch 1/100 - Total reviews: 100\n",
      "Fetched batch 2/100 - Total reviews: 200\n",
      "Fetched batch 3/100 - Total reviews: 300\n",
      "Fetched batch 4/100 - Total reviews: 400\n",
      "Fetched batch 5/100 - Total reviews: 500\n",
      "Fetched batch 6/100 - Total reviews: 600\n",
      "Fetched batch 7/100 - Total reviews: 700\n",
      "Fetched batch 8/100 - Total reviews: 800\n",
      "Fetched batch 9/100 - Total reviews: 900\n",
      "Fetched batch 10/100 - Total reviews: 1000\n",
      "Fetched batch 11/100 - Total reviews: 1100\n",
      "Fetched batch 12/100 - Total reviews: 1200\n",
      "Fetched batch 13/100 - Total reviews: 1300\n",
      "Fetched batch 14/100 - Total reviews: 1400\n",
      "Fetched batch 15/100 - Total reviews: 1500\n",
      "Fetched batch 16/100 - Total reviews: 1600\n",
      "Fetched batch 17/100 - Total reviews: 1700\n",
      "Fetched batch 18/100 - Total reviews: 1800\n",
      "Fetched batch 19/100 - Total reviews: 1900\n",
      "Fetched batch 20/100 - Total reviews: 2000\n",
      "Fetched batch 21/100 - Total reviews: 2100\n",
      "Fetched batch 22/100 - Total reviews: 2200\n",
      "Fetched batch 23/100 - Total reviews: 2300\n",
      "Fetched batch 24/100 - Total reviews: 2400\n",
      "Fetched batch 25/100 - Total reviews: 2500\n",
      "Fetched batch 26/100 - Total reviews: 2600\n",
      "Fetched batch 27/100 - Total reviews: 2700\n",
      "Fetched batch 28/100 - Total reviews: 2800\n",
      "Fetched batch 29/100 - Total reviews: 2900\n",
      "Fetched batch 30/100 - Total reviews: 3000\n",
      "Fetched batch 31/100 - Total reviews: 3100\n",
      "Fetched batch 32/100 - Total reviews: 3200\n",
      "Fetched batch 33/100 - Total reviews: 3300\n",
      "Fetched batch 34/100 - Total reviews: 3400\n",
      "Fetched batch 35/100 - Total reviews: 3500\n",
      "Fetched batch 36/100 - Total reviews: 3600\n",
      "Fetched batch 37/100 - Total reviews: 3700\n",
      "Fetched batch 38/100 - Total reviews: 3800\n",
      "Fetched batch 39/100 - Total reviews: 3900\n",
      "Fetched batch 40/100 - Total reviews: 4000\n",
      "Fetched batch 41/100 - Total reviews: 4100\n",
      "Fetched batch 42/100 - Total reviews: 4200\n",
      "Fetched batch 43/100 - Total reviews: 4300\n",
      "Fetched batch 44/100 - Total reviews: 4400\n",
      "Fetched batch 45/100 - Total reviews: 4500\n",
      "Fetched batch 46/100 - Total reviews: 4600\n",
      "Fetched batch 47/100 - Total reviews: 4700\n",
      "Fetched batch 48/100 - Total reviews: 4800\n",
      "Fetched batch 49/100 - Total reviews: 4900\n",
      "Fetched batch 50/100 - Total reviews: 5000\n",
      "Fetched batch 51/100 - Total reviews: 5100\n",
      "Fetched batch 52/100 - Total reviews: 5200\n",
      "Fetched batch 53/100 - Total reviews: 5300\n",
      "Fetched batch 54/100 - Total reviews: 5400\n",
      "Fetched batch 55/100 - Total reviews: 5500\n",
      "Fetched batch 56/100 - Total reviews: 5600\n",
      "Fetched batch 57/100 - Total reviews: 5700\n",
      "Fetched batch 58/100 - Total reviews: 5800\n",
      "Fetched batch 59/100 - Total reviews: 5900\n",
      "Fetched batch 60/100 - Total reviews: 6000\n",
      "Fetched batch 61/100 - Total reviews: 6100\n",
      "Fetched batch 62/100 - Total reviews: 6200\n",
      "Fetched batch 63/100 - Total reviews: 6300\n",
      "Fetched batch 64/100 - Total reviews: 6400\n",
      "Fetched batch 65/100 - Total reviews: 6500\n",
      "Fetched batch 66/100 - Total reviews: 6600\n",
      "Fetched batch 67/100 - Total reviews: 6700\n",
      "Fetched batch 68/100 - Total reviews: 6800\n",
      "Fetched batch 69/100 - Total reviews: 6900\n",
      "Fetched batch 70/100 - Total reviews: 7000\n",
      "Fetched batch 71/100 - Total reviews: 7100\n",
      "Fetched batch 72/100 - Total reviews: 7200\n",
      "Fetched batch 73/100 - Total reviews: 7300\n",
      "Fetched batch 74/100 - Total reviews: 7400\n",
      "Fetched batch 75/100 - Total reviews: 7500\n",
      "Fetched batch 76/100 - Total reviews: 7600\n",
      "Fetched batch 77/100 - Total reviews: 7700\n",
      "Fetched batch 78/100 - Total reviews: 7800\n",
      "Fetched batch 79/100 - Total reviews: 7900\n",
      "Fetched batch 80/100 - Total reviews: 8000\n",
      "Fetched batch 81/100 - Total reviews: 8100\n",
      "Fetched batch 82/100 - Total reviews: 8200\n",
      "Fetched batch 83/100 - Total reviews: 8300\n",
      "Fetched batch 84/100 - Total reviews: 8400\n",
      "Fetched batch 85/100 - Total reviews: 8500\n",
      "Fetched batch 86/100 - Total reviews: 8600\n",
      "Fetched batch 87/100 - Total reviews: 8700\n",
      "Fetched batch 88/100 - Total reviews: 8800\n",
      "Fetched batch 89/100 - Total reviews: 8900\n",
      "Fetched batch 90/100 - Total reviews: 9000\n",
      "Fetched batch 91/100 - Total reviews: 9100\n",
      "Fetched batch 92/100 - Total reviews: 9200\n",
      "Fetched batch 93/100 - Total reviews: 9300\n",
      "Fetched batch 94/100 - Total reviews: 9400\n",
      "Fetched batch 95/100 - Total reviews: 9500\n",
      "Fetched batch 96/100 - Total reviews: 9600\n",
      "Fetched batch 97/100 - Total reviews: 9700\n",
      "Fetched batch 98/100 - Total reviews: 9800\n",
      "Fetched batch 99/100 - Total reviews: 9900\n",
      "Fetched batch 100/100 - Total reviews: 10000\n"
     ]
    }
   ],
   "source": [
    "from google_play_scraper import Sort, reviews\n",
    "import pandas as pd\n",
    "import time\n",
    "\n",
    "app_package = 'com.whatsapp'\n",
    "all_reviews = []\n",
    "total_reviews_needed = 10000\n",
    "batch_size = 100  # Max per request\n",
    "num_batches = total_reviews_needed // batch_size\n",
    "\n",
    "# Fetch reviews in chunks\n",
    "for i in range(num_batches):\n",
    "    rvs, _ = reviews(\n",
    "        app_package,\n",
    "        lang='en',        # English reviews\n",
    "        country='in',     # India\n",
    "        sort=Sort.NEWEST,\n",
    "        count=batch_size,\n",
    "        continuation_token=None if i == 0 else token\n",
    "    )\n",
    "    all_reviews.extend(rvs)\n",
    "    print(f'Fetched batch {i + 1}/{num_batches} - Total reviews: {len(all_reviews)}')\n",
    "    token = _  # continuation token for next batch\n",
    "\n",
    "    time.sleep(1)  # Respectful scraping: avoid hammering the server\n",
    "\n",
    "# Convert to DataFrame\n",
    "df = pd.DataFrame(all_reviews)\n",
    "df = df[['content', 'score']]  # Keep relevant columns"
   ]
  },
  {
   "cell_type": "code",
   "execution_count": 3,
   "metadata": {
    "colab": {
     "base_uri": "https://localhost:8080/",
     "height": 423
    },
    "executionInfo": {
     "elapsed": 46,
     "status": "ok",
     "timestamp": 1752658692236,
     "user": {
      "displayName": "Vineet Yadav",
      "userId": "10217982080212654604"
     },
     "user_tz": -330
    },
    "id": "HQCNJoxEhf7P",
    "outputId": "217458f6-1d61-4d71-9b1c-56134eaaef5c"
   },
   "outputs": [
    {
     "data": {
      "text/html": [
       "<div>\n",
       "<style scoped>\n",
       "    .dataframe tbody tr th:only-of-type {\n",
       "        vertical-align: middle;\n",
       "    }\n",
       "\n",
       "    .dataframe tbody tr th {\n",
       "        vertical-align: top;\n",
       "    }\n",
       "\n",
       "    .dataframe thead th {\n",
       "        text-align: right;\n",
       "    }\n",
       "</style>\n",
       "<table border=\"1\" class=\"dataframe\">\n",
       "  <thead>\n",
       "    <tr style=\"text-align: right;\">\n",
       "      <th></th>\n",
       "      <th>content</th>\n",
       "      <th>score</th>\n",
       "    </tr>\n",
       "  </thead>\n",
       "  <tbody>\n",
       "    <tr>\n",
       "      <th>0</th>\n",
       "      <td>Dear Whatsapp, I have found no other way to se...</td>\n",
       "      <td>3</td>\n",
       "    </tr>\n",
       "    <tr>\n",
       "      <th>1</th>\n",
       "      <td>Nice app</td>\n",
       "      <td>5</td>\n",
       "    </tr>\n",
       "    <tr>\n",
       "      <th>2</th>\n",
       "      <td>Unyama sana</td>\n",
       "      <td>5</td>\n",
       "    </tr>\n",
       "    <tr>\n",
       "      <th>3</th>\n",
       "      <td>it giving problem... I don't know why it not w...</td>\n",
       "      <td>1</td>\n",
       "    </tr>\n",
       "    <tr>\n",
       "      <th>4</th>\n",
       "      <td>WhatsApp band ho gaya he</td>\n",
       "      <td>5</td>\n",
       "    </tr>\n",
       "    <tr>\n",
       "      <th>...</th>\n",
       "      <td>...</td>\n",
       "      <td>...</td>\n",
       "    </tr>\n",
       "    <tr>\n",
       "      <th>9995</th>\n",
       "      <td>I can't open my WhatsApp</td>\n",
       "      <td>1</td>\n",
       "    </tr>\n",
       "    <tr>\n",
       "      <th>9996</th>\n",
       "      <td>WhatsApp is always up to standard. I like the ...</td>\n",
       "      <td>5</td>\n",
       "    </tr>\n",
       "    <tr>\n",
       "      <th>9997</th>\n",
       "      <td>वडश</td>\n",
       "      <td>1</td>\n",
       "    </tr>\n",
       "    <tr>\n",
       "      <th>9998</th>\n",
       "      <td>excellent</td>\n",
       "      <td>5</td>\n",
       "    </tr>\n",
       "    <tr>\n",
       "      <th>9999</th>\n",
       "      <td>I like</td>\n",
       "      <td>5</td>\n",
       "    </tr>\n",
       "  </tbody>\n",
       "</table>\n",
       "<p>10000 rows × 2 columns</p>\n",
       "</div>"
      ],
      "text/plain": [
       "                                                content  score\n",
       "0     Dear Whatsapp, I have found no other way to se...      3\n",
       "1                                              Nice app      5\n",
       "2                                           Unyama sana      5\n",
       "3     it giving problem... I don't know why it not w...      1\n",
       "4                              WhatsApp band ho gaya he      5\n",
       "...                                                 ...    ...\n",
       "9995                           I can't open my WhatsApp      1\n",
       "9996  WhatsApp is always up to standard. I like the ...      5\n",
       "9997                                                वडश      1\n",
       "9998                                          excellent      5\n",
       "9999                                             I like      5\n",
       "\n",
       "[10000 rows x 2 columns]"
      ]
     },
     "execution_count": 3,
     "metadata": {},
     "output_type": "execute_result"
    }
   ],
   "source": [
    "df"
   ]
  },
  {
   "cell_type": "code",
   "execution_count": 4,
   "metadata": {
    "colab": {
     "base_uri": "https://localhost:8080/"
    },
    "executionInfo": {
     "elapsed": 3252,
     "status": "ok",
     "timestamp": 1752658703234,
     "user": {
      "displayName": "Vineet Yadav",
      "userId": "10217982080212654604"
     },
     "user_tz": -330
    },
    "id": "KoYDRnMkmUfQ",
    "outputId": "d793bd76-9a6f-4908-c91c-ef07b2db0efb"
   },
   "outputs": [
    {
     "name": "stderr",
     "output_type": "stream",
     "text": [
      "[nltk_data] Downloading package punkt to\n",
      "[nltk_data]     C:\\Users\\admin\\AppData\\Roaming\\nltk_data...\n",
      "[nltk_data]   Unzipping tokenizers\\punkt.zip.\n"
     ]
    }
   ],
   "source": [
    "import re\n",
    "import nltk\n",
    "from nltk.tokenize import word_tokenize\n",
    "nltk.download('punkt')\n",
    "\n",
    "def clean_text(text):\n",
    "    text = text.lower()\n",
    "    text = re.sub(r'[^a-z0-9\\s]', '', text)\n",
    "    return text\n",
    "\n",
    "df['cleaned'] = df['content'].apply(lambda x: clean_text(str(x)))\n",
    "df = df[df['cleaned'].str.strip().astype(bool)]  # Remove empty strings"
   ]
  },
  {
   "cell_type": "code",
   "execution_count": 5,
   "metadata": {
    "colab": {
     "base_uri": "https://localhost:8080/"
    },
    "executionInfo": {
     "elapsed": 6,
     "status": "ok",
     "timestamp": 1752658726046,
     "user": {
      "displayName": "Vineet Yadav",
      "userId": "10217982080212654604"
     },
     "user_tz": -330
    },
    "id": "ehZ1IKgVmWZX",
    "outputId": "198b243e-0051-44ae-df60-cd51a7fa4d70"
   },
   "outputs": [
    {
     "name": "stderr",
     "output_type": "stream",
     "text": [
      "C:\\Users\\admin\\AppData\\Local\\Temp\\ipykernel_6664\\3647701843.py:8: SettingWithCopyWarning: \n",
      "A value is trying to be set on a copy of a slice from a DataFrame.\n",
      "Try using .loc[row_indexer,col_indexer] = value instead\n",
      "\n",
      "See the caveats in the documentation: https://pandas.pydata.org/pandas-docs/stable/user_guide/indexing.html#returning-a-view-versus-a-copy\n",
      "  df['sentiment'] = df['score'].apply(label_sentiment)\n"
     ]
    }
   ],
   "source": [
    "def label_sentiment(score):\n",
    "    if score <= 2:\n",
    "        return 'negative'\n",
    "    elif score == 3:\n",
    "        return 'neutral'\n",
    "    return 'positive'\n",
    "\n",
    "df['sentiment'] = df['score'].apply(label_sentiment)"
   ]
  },
  {
   "cell_type": "code",
   "execution_count": 6,
   "metadata": {
    "executionInfo": {
     "elapsed": 45,
     "status": "ok",
     "timestamp": 1752658737489,
     "user": {
      "displayName": "Vineet Yadav",
      "userId": "10217982080212654604"
     },
     "user_tz": -330
    },
    "id": "csfH0Ck9mcwd"
   },
   "outputs": [],
   "source": [
    "from sklearn.model_selection import train_test_split\n",
    "X_train, X_test, y_train, y_test = train_test_split(df['cleaned'], df['sentiment'], test_size=0.3, random_state=42, stratify=df['sentiment'])"
   ]
  },
  {
   "cell_type": "markdown",
   "metadata": {
    "id": "fjlV85W-mkBr"
   },
   "source": [
    "Model Implementation & Evaluation"
   ]
  },
  {
   "cell_type": "code",
   "execution_count": 7,
   "metadata": {
    "colab": {
     "base_uri": "https://localhost:8080/"
    },
    "executionInfo": {
     "elapsed": 935,
     "status": "ok",
     "timestamp": 1752658776243,
     "user": {
      "displayName": "Vineet Yadav",
      "userId": "10217982080212654604"
     },
     "user_tz": -330
    },
    "id": "dEUGJfpWmk3C",
    "outputId": "11c64f37-8762-404c-fb43-294b72918e9d"
   },
   "outputs": [
    {
     "name": "stderr",
     "output_type": "stream",
     "text": [
      "[nltk_data] Downloading package vader_lexicon to\n",
      "[nltk_data]     C:\\Users\\admin\\AppData\\Roaming\\nltk_data...\n"
     ]
    }
   ],
   "source": [
    "from nltk.sentiment import SentimentIntensityAnalyzer\n",
    "nltk.download('vader_lexicon')\n",
    "sid = SentimentIntensityAnalyzer()\n",
    "\n",
    "def vader_sentiment(text):\n",
    "    score = sid.polarity_scores(text)['compound']\n",
    "    if score >= 0.05:\n",
    "        return 'positive'\n",
    "    elif score <= -0.05:\n",
    "        return 'negative'\n",
    "    return 'neutral'\n",
    "\n",
    "y_pred_vader = X_test.apply(vader_sentiment)"
   ]
  },
  {
   "cell_type": "code",
   "execution_count": 8,
   "metadata": {
    "executionInfo": {
     "elapsed": 2515,
     "status": "ok",
     "timestamp": 1752658792827,
     "user": {
      "displayName": "Vineet Yadav",
      "userId": "10217982080212654604"
     },
     "user_tz": -330
    },
    "id": "kaepSBdCmoyT"
   },
   "outputs": [],
   "source": [
    "from sklearn.feature_extraction.text import TfidfVectorizer\n",
    "from sklearn.linear_model import LogisticRegression\n",
    "from sklearn.pipeline import Pipeline\n",
    "\n",
    "pipe_lr = Pipeline([\n",
    "    ('tfidf', TfidfVectorizer(max_features=5000)),\n",
    "    ('clf', LogisticRegression(max_iter=1000))\n",
    "])\n",
    "\n",
    "pipe_lr.fit(X_train, y_train)\n",
    "y_pred_lr = pipe_lr.predict(X_test)"
   ]
  },
  {
   "cell_type": "code",
   "execution_count": 11,
   "metadata": {
    "colab": {
     "base_uri": "https://localhost:8080/",
     "height": 304,
     "referenced_widgets": [
      "5fbba9605f33422f8f1d7459366cb5cc",
      "0efaa192b790488487d4d736dda811e7",
      "6acb546af9cb4063828c87c0bc6521e3",
      "db5468e9847349c59150df289cc78d43",
      "9f88869db5094508afeab3092c8cbd01",
      "a89661ca1ec94aa5b97e1dc552fd8041",
      "0341fd9e0d494a589e0d1effdfd5537a",
      "d99dc4f309e74ae3a128868b8f5913f2",
      "c3030ee135794783ab842076a1788392",
      "bdba969238a141aaa8fc4c0f05d8653e",
      "ec848cb51a484992bf7c77b70a86f45f",
      "8ddccb36e0c646b486c5860660d7b2ec",
      "3696f519ff6f4bc3a39a5769f6e6c494",
      "6b75ed3e3d5b4cc6bf8d9583fa8be5a4",
      "906dd48ea36e413dbbc7699dbbf5f896",
      "e9d4253945cb436a96b7456f74b34be9",
      "9c096e1113b14d968225cf97b7f142f5",
      "aa3880f735c940008bc3e93e35c7a196",
      "aea1f5e0f544482189b3221a31987caa",
      "f802affcfc534b88a2e151b12ae5e676",
      "14c526b4390b4ec7bfae57b28d122516",
      "a4d1d97c1b9f49d284d9597a862fff4c",
      "0c8b76bd2ad24389949854b54d7c0e6a",
      "02b67065aa8b4b5b928a138b2c9de309",
      "8887be0776e74729b0808adf5662cfb9",
      "43fb3a21e785416a926275ecf0c44b11",
      "1be050ad127e4dbdaad6504f6dec0830",
      "5fb13c9563464925aacfe7c7ae1fb662",
      "0d286224337e47db95f827c884dbeb1e",
      "ade923ecc0ca48dcb0e1bbaeee844969",
      "f640299abdff420fb715b2c7d8f7a213",
      "77c53153c88340919cac6cd22710b17f",
      "20a3274b26e34057a528c5b42fd0d5de",
      "ba32bdd01557456b83fae66e4caf822b",
      "f8e30a0ff6a841278cf34545dbd4c96a",
      "cb8311b157144ecb8e8f944b72e0ace7",
      "66bdfee7e07e4037a2e64a885176e41c",
      "01a5061fdd9d4f35b086022701c8fef3",
      "1e923e76972442838a7e2663108640d7",
      "40b7cebd3b32430d892eb8f2a048c747",
      "7e9424fb75bf4ca68e942ab226711b3f",
      "66d4c43c1c574012b9f6767171c82756",
      "38651e62f3fc4b63b868570d168fe33d",
      "c32edc2fe9614748b39e3e0a042523b0"
     ]
    },
    "executionInfo": {
     "elapsed": 70588,
     "status": "ok",
     "timestamp": 1752658875813,
     "user": {
      "displayName": "Vineet Yadav",
      "userId": "10217982080212654604"
     },
     "user_tz": -330
    },
    "id": "TJieGVz5msch",
    "outputId": "46c0b3e0-bbda-46dd-b655-2e9127a3e7f8"
   },
   "outputs": [
    {
     "name": "stdout",
     "output_type": "stream",
     "text": [
      "Requirement already satisfied: transformers in c:\\users\\admin\\anaconda3\\lib\\site-packages (4.53.2)\n",
      "Requirement already satisfied: filelock in c:\\users\\admin\\anaconda3\\lib\\site-packages (from transformers) (3.17.0)\n",
      "Requirement already satisfied: huggingface-hub<1.0,>=0.30.0 in c:\\users\\admin\\anaconda3\\lib\\site-packages (from transformers) (0.33.4)\n",
      "Requirement already satisfied: numpy>=1.17 in c:\\users\\admin\\anaconda3\\lib\\site-packages (from transformers) (2.1.3)\n",
      "Requirement already satisfied: packaging>=20.0 in c:\\users\\admin\\anaconda3\\lib\\site-packages (from transformers) (24.2)\n",
      "Requirement already satisfied: pyyaml>=5.1 in c:\\users\\admin\\anaconda3\\lib\\site-packages (from transformers) (6.0.2)\n",
      "Requirement already satisfied: regex!=2019.12.17 in c:\\users\\admin\\anaconda3\\lib\\site-packages (from transformers) (2024.11.6)\n",
      "Requirement already satisfied: requests in c:\\users\\admin\\anaconda3\\lib\\site-packages (from transformers) (2.32.3)\n",
      "Requirement already satisfied: tokenizers<0.22,>=0.21 in c:\\users\\admin\\anaconda3\\lib\\site-packages (from transformers) (0.21.2)\n",
      "Requirement already satisfied: safetensors>=0.4.3 in c:\\users\\admin\\anaconda3\\lib\\site-packages (from transformers) (0.5.3)\n",
      "Requirement already satisfied: tqdm>=4.27 in c:\\users\\admin\\anaconda3\\lib\\site-packages (from transformers) (4.67.1)\n",
      "Requirement already satisfied: fsspec>=2023.5.0 in c:\\users\\admin\\anaconda3\\lib\\site-packages (from huggingface-hub<1.0,>=0.30.0->transformers) (2025.3.2)\n",
      "Requirement already satisfied: typing-extensions>=3.7.4.3 in c:\\users\\admin\\anaconda3\\lib\\site-packages (from huggingface-hub<1.0,>=0.30.0->transformers) (4.12.2)\n",
      "Requirement already satisfied: colorama in c:\\users\\admin\\anaconda3\\lib\\site-packages (from tqdm>=4.27->transformers) (0.4.6)\n",
      "Requirement already satisfied: charset-normalizer<4,>=2 in c:\\users\\admin\\anaconda3\\lib\\site-packages (from requests->transformers) (3.3.2)\n",
      "Requirement already satisfied: idna<4,>=2.5 in c:\\users\\admin\\anaconda3\\lib\\site-packages (from requests->transformers) (3.7)\n",
      "Requirement already satisfied: urllib3<3,>=1.21.1 in c:\\users\\admin\\anaconda3\\lib\\site-packages (from requests->transformers) (2.3.0)\n",
      "Requirement already satisfied: certifi>=2017.4.17 in c:\\users\\admin\\anaconda3\\lib\\site-packages (from requests->transformers) (2025.6.15)\n"
     ]
    },
    {
     "name": "stderr",
     "output_type": "stream",
     "text": [
      "Device set to use cpu\n"
     ]
    }
   ],
   "source": [
    "!pip install transformers\n",
    "from transformers import pipeline\n",
    "transformer = pipeline(\"sentiment-analysis\", model=\"distilbert-base-uncased-finetuned-sst-2-english\")\n",
    "\n",
    "def transformer_sentiment(text):\n",
    "    try:\n",
    "        label = transformer(text[:512])[0]['label']\n",
    "        return 'positive' if label == 'POSITIVE' else 'negative'\n",
    "    except:\n",
    "        return 'neutral'\n",
    "\n",
    "y_pred_bert = X_test.apply(transformer_sentiment)"
   ]
  },
  {
   "cell_type": "markdown",
   "metadata": {
    "id": "RDwbt6ynnEOD"
   },
   "source": [
    "Evaluation"
   ]
  },
  {
   "cell_type": "code",
   "execution_count": 12,
   "metadata": {
    "colab": {
     "base_uri": "https://localhost:8080/"
    },
    "executionInfo": {
     "elapsed": 105,
     "status": "ok",
     "timestamp": 1752659115877,
     "user": {
      "displayName": "Vineet Yadav",
      "userId": "10217982080212654604"
     },
     "user_tz": -330
    },
    "id": "4koNUxz-nEqo",
    "outputId": "7156e62f-8c7d-4209-ae51-9a7034b7360e"
   },
   "outputs": [
    {
     "name": "stdout",
     "output_type": "stream",
     "text": [
      "\n",
      "--- VADER ---\n",
      "              precision    recall  f1-score   support\n",
      "\n",
      "    negative       0.72      0.47      0.57       701\n",
      "     neutral       0.06      0.21      0.09       140\n",
      "    positive       0.87      0.80      0.83      2063\n",
      "\n",
      "    accuracy                           0.69      2904\n",
      "   macro avg       0.55      0.49      0.49      2904\n",
      "weighted avg       0.79      0.69      0.73      2904\n",
      "\n",
      "Confusion Matrix:\n",
      "[[ 328  199  174]\n",
      " [  27   30   83]\n",
      " [ 102  314 1647]]\n",
      "\n",
      "--- Logistic Regression ---\n",
      "              precision    recall  f1-score   support\n",
      "\n",
      "    negative       0.70      0.64      0.67       701\n",
      "     neutral       0.00      0.00      0.00       140\n",
      "    positive       0.84      0.93      0.88      2063\n",
      "\n",
      "    accuracy                           0.81      2904\n",
      "   macro avg       0.51      0.52      0.52      2904\n",
      "weighted avg       0.77      0.81      0.79      2904\n",
      "\n",
      "Confusion Matrix:\n",
      "[[ 448    0  253]\n",
      " [  41    0   99]\n",
      " [ 152    0 1911]]\n",
      "\n",
      "--- DistilBERT ---\n",
      "              precision    recall  f1-score   support\n",
      "\n",
      "    negative       0.57      0.83      0.67       701\n",
      "     neutral       0.00      0.00      0.00       140\n",
      "    positive       0.90      0.82      0.86      2063\n",
      "\n",
      "    accuracy                           0.78      2904\n",
      "   macro avg       0.49      0.55      0.51      2904\n",
      "weighted avg       0.77      0.78      0.77      2904\n",
      "\n",
      "Confusion Matrix:\n",
      "[[ 581    0  120]\n",
      " [  69    0   71]\n",
      " [ 378    0 1685]]\n"
     ]
    },
    {
     "name": "stderr",
     "output_type": "stream",
     "text": [
      "C:\\Users\\admin\\anaconda3\\Lib\\site-packages\\sklearn\\metrics\\_classification.py:1565: UndefinedMetricWarning: Precision is ill-defined and being set to 0.0 in labels with no predicted samples. Use `zero_division` parameter to control this behavior.\n",
      "  _warn_prf(average, modifier, f\"{metric.capitalize()} is\", len(result))\n",
      "C:\\Users\\admin\\anaconda3\\Lib\\site-packages\\sklearn\\metrics\\_classification.py:1565: UndefinedMetricWarning: Precision is ill-defined and being set to 0.0 in labels with no predicted samples. Use `zero_division` parameter to control this behavior.\n",
      "  _warn_prf(average, modifier, f\"{metric.capitalize()} is\", len(result))\n",
      "C:\\Users\\admin\\anaconda3\\Lib\\site-packages\\sklearn\\metrics\\_classification.py:1565: UndefinedMetricWarning: Precision is ill-defined and being set to 0.0 in labels with no predicted samples. Use `zero_division` parameter to control this behavior.\n",
      "  _warn_prf(average, modifier, f\"{metric.capitalize()} is\", len(result))\n",
      "C:\\Users\\admin\\anaconda3\\Lib\\site-packages\\sklearn\\metrics\\_classification.py:1565: UndefinedMetricWarning: Precision is ill-defined and being set to 0.0 in labels with no predicted samples. Use `zero_division` parameter to control this behavior.\n",
      "  _warn_prf(average, modifier, f\"{metric.capitalize()} is\", len(result))\n",
      "C:\\Users\\admin\\anaconda3\\Lib\\site-packages\\sklearn\\metrics\\_classification.py:1565: UndefinedMetricWarning: Precision is ill-defined and being set to 0.0 in labels with no predicted samples. Use `zero_division` parameter to control this behavior.\n",
      "  _warn_prf(average, modifier, f\"{metric.capitalize()} is\", len(result))\n",
      "C:\\Users\\admin\\anaconda3\\Lib\\site-packages\\sklearn\\metrics\\_classification.py:1565: UndefinedMetricWarning: Precision is ill-defined and being set to 0.0 in labels with no predicted samples. Use `zero_division` parameter to control this behavior.\n",
      "  _warn_prf(average, modifier, f\"{metric.capitalize()} is\", len(result))\n"
     ]
    }
   ],
   "source": [
    "from sklearn.metrics import classification_report, confusion_matrix\n",
    "\n",
    "def evaluate(y_true, y_pred, model_name):\n",
    "    print(f\"\\n--- {model_name} ---\")\n",
    "    print(classification_report(y_true, y_pred))\n",
    "    print(\"Confusion Matrix:\")\n",
    "    print(confusion_matrix(y_true, y_pred))\n",
    "\n",
    "evaluate(y_test, y_pred_vader, \"VADER\")\n",
    "evaluate(y_test, y_pred_lr, \"Logistic Regression\")\n",
    "evaluate(y_test, y_pred_bert, \"DistilBERT\")"
   ]
  },
  {
   "cell_type": "code",
   "execution_count": 14,
   "metadata": {
    "colab": {
     "base_uri": "https://localhost:8080/",
     "height": 1000
    },
    "executionInfo": {
     "elapsed": 1859,
     "status": "ok",
     "timestamp": 1752659564306,
     "user": {
      "displayName": "Vineet Yadav",
      "userId": "10217982080212654604"
     },
     "user_tz": -330
    },
    "id": "TQmCGkNipGu-",
    "outputId": "ea31e374-82b6-4d4d-d07a-4496e700022f"
   },
   "outputs": [
    {
     "data": {
      "image/png": "[encoded data removed]",
      "text/plain": [
       "<Figure size 1000x600 with 1 Axes>"
      ]
     },
     "metadata": {},
     "output_type": "display_data"
    }
   ],
   "source": [
    "import matplotlib.pyplot as plt\n",
    "import numpy as np\n",
    "\n",
    "# Metrics\n",
    "models = ['VADER', 'Logistic Regression', 'DistilBERT']\n",
    "accuracy = [0.69, 0.81, 0.78]\n",
    "precision = [0.55, 0.51, 0.49]\n",
    "recall = [0.49, 0.52, 0.55]\n",
    "f1_score = [0.49, 0.52, 0.51]\n",
    "\n",
    "# Grouped bar chart setup\n",
    "x = np.arange(len(models))  # label locations\n",
    "width = 0.2\n",
    "\n",
    "fig, ax = plt.subplots(figsize=(10, 6))\n",
    "rects1 = ax.bar(x - 1.5*width, accuracy, width, label='Accuracy', color='#1f77b4')\n",
    "rects2 = ax.bar(x - 0.5*width, precision, width, label='Precision', color='#ff7f0e')\n",
    "rects3 = ax.bar(x + 0.5*width, recall, width, label='Recall', color='#2ca02c')\n",
    "rects4 = ax.bar(x + 1.5*width, f1_score, width, label='F1 Score', color='#d62728')\n",
    "\n",
    "# Labels and formatting\n",
    "ax.set_ylabel('Score')\n",
    "ax.set_title('Model Performance Comparison')\n",
    "ax.set_xticks(x)\n",
    "ax.set_xticklabels(models)\n",
    "ax.set_ylim([0, 1])\n",
    "ax.legend()\n",
    "ax.grid(axis='y', linestyle='--', alpha=0.6)\n",
    "\n",
    "# Add value labels on bars\n",
    "def add_labels(rects):\n",
    "    for rect in rects:\n",
    "        height = rect.get_height()\n",
    "        ax.annotate(f'{height:.2f}',\n",
    "                    xy=(rect.get_x() + rect.get_width() / 2, height),\n",
    "                    xytext=(0, 4),  # vertical offset\n",
    "                    textcoords=\"offset points\",\n",
    "                    ha='center', va='bottom')\n",
    "\n",
    "for r in [rects1, rects2, rects3, rects4]:\n",
    "    add_labels(r)\n",
    "\n",
    "plt.tight_layout()\n",
    "plt.show()\n"
   ]
  },
  {
   "cell_type": "code",
   "execution_count": 15,
   "metadata": {
    "colab": {
     "base_uri": "https://localhost:8080/",
     "height": 607
    },
    "executionInfo": {
     "elapsed": 218,
     "status": "ok",
     "timestamp": 1752660198687,
     "user": {
      "displayName": "Vineet Yadav",
      "userId": "10217982080212654604"
     },
     "user_tz": -330
    },
    "id": "qZmrBicipwDH",
    "outputId": "12bd1fc8-03f0-4e8c-c1b3-b04b29c2d67a"
   },
   "outputs": [
    {
     "data": {
      "image/png": "[encoded data removed]",
      "text/plain": [
       "<Figure size 1800x500 with 6 Axes>"
      ]
     },
     "metadata": {},
     "output_type": "display_data"
    }
   ],
   "source": [
    "import matplotlib.pyplot as plt\n",
    "import seaborn as sns\n",
    "import numpy as np\n",
    "\n",
    "# Define class labels\n",
    "labels = ['negative', 'neutral', 'positive']\n",
    "\n",
    "# Manually entered confusion matrices\n",
    "cm_vader = np.array([[328, 199, 174],\n",
    "                     [ 27,  30,  83],\n",
    "                     [102, 314, 1647]])\n",
    "\n",
    "cm_lr = np.array([[448,   0, 253],\n",
    "                  [ 41,   0,  99],\n",
    "                  [152,   0, 1911]])\n",
    "\n",
    "cm_bert = np.array([[581,   0, 120],\n",
    "                    [ 69,   0,  71],\n",
    "                    [378,   0, 1685]])\n",
    "\n",
    "# Plot function\n",
    "def plot_confusion_matrix(cm, title, ax, cmap):\n",
    "    sns.heatmap(cm, annot=True, fmt='d', cmap=cmap, xticklabels=labels, yticklabels=labels, ax=ax)\n",
    "    ax.set_title(title)\n",
    "    ax.set_xlabel('Predicted')\n",
    "    ax.set_ylabel('Actual')\n",
    "\n",
    "# Create subplots\n",
    "fig, axes = plt.subplots(1, 3, figsize=(18, 5))\n",
    "\n",
    "plot_confusion_matrix(cm_vader, \"VADER\", axes[0], \"Blues\")\n",
    "plot_confusion_matrix(cm_lr, \"Logistic Regression\", axes[1], \"Greens\")\n",
    "plot_confusion_matrix(cm_bert, \"DistilBERT\", axes[2], \"Purples\")\n",
    "\n",
    "plt.tight_layout()\n",
    "plt.show()"
   ]
  },
  {
   "cell_type": "markdown",
   "metadata": {
    "id": "QaT2Nu4Et576"
   },
   "source": [
    "Testing on sample text"
   ]
  },
  {
   "cell_type": "code",
   "execution_count": 17,
   "metadata": {
    "colab": {
     "base_uri": "https://localhost:8080/"
    },
    "executionInfo": {
     "elapsed": 12,
     "status": "ok",
     "timestamp": 1752661085580,
     "user": {
      "displayName": "Vineet Yadav",
      "userId": "10217982080212654604"
     },
     "user_tz": -330
    },
    "id": "ZQTV6ozRsgAr",
    "outputId": "efc1e1d3-ae22-4dbc-ac59-0662b5fdd788"
   },
   "outputs": [
    {
     "name": "stdout",
     "output_type": "stream",
     "text": [
      "Collecting vaderSentiment\n",
      "  Downloading vaderSentiment-3.3.2-py2.py3-none-any.whl.metadata (572 bytes)\n",
      "Requirement already satisfied: requests in c:\\users\\admin\\anaconda3\\lib\\site-packages (from vaderSentiment) (2.32.3)\n",
      "Requirement already satisfied: charset-normalizer<4,>=2 in c:\\users\\admin\\anaconda3\\lib\\site-packages (from requests->vaderSentiment) (3.3.2)\n",
      "Requirement already satisfied: idna<4,>=2.5 in c:\\users\\admin\\anaconda3\\lib\\site-packages (from requests->vaderSentiment) (3.7)\n",
      "Requirement already satisfied: urllib3<3,>=1.21.1 in c:\\users\\admin\\anaconda3\\lib\\site-packages (from requests->vaderSentiment) (2.3.0)\n",
      "Requirement already satisfied: certifi>=2017.4.17 in c:\\users\\admin\\anaconda3\\lib\\site-packages (from requests->vaderSentiment) (2025.6.15)\n",
      "Downloading vaderSentiment-3.3.2-py2.py3-none-any.whl (125 kB)\n",
      "Installing collected packages: vaderSentiment\n",
      "Successfully installed vaderSentiment-3.3.2\n",
      "Predicted Sentiment: positive (compound score: 0.7397)\n"
     ]
    }
   ],
   "source": [
    "!pip install vaderSentiment\n",
    "from vaderSentiment.vaderSentiment import SentimentIntensityAnalyzer\n",
    "\n",
    "analyzer = SentimentIntensityAnalyzer()\n",
    "\n",
    "text = \"This app is really helpful and easy to use.\"\n",
    "score = analyzer.polarity_scores(text)\n",
    "\n",
    "compound = score['compound']\n",
    "sentiment = (\n",
    "    \"positive\" if compound >= 0.05 else\n",
    "    \"negative\" if compound <= -0.05 else\n",
    "    \"neutral\"\n",
    ")\n",
    "\n",
    "print(f\"Predicted Sentiment: {sentiment} (compound score: {compound})\")"
   ]
  },
  {
   "cell_type": "code",
   "execution_count": 18,
   "metadata": {
    "colab": {
     "base_uri": "https://localhost:8080/"
    },
    "executionInfo": {
     "elapsed": 1415,
     "status": "ok",
     "timestamp": 1752661087694,
     "user": {
      "displayName": "Vineet Yadav",
      "userId": "10217982080212654604"
     },
     "user_tz": -330
    },
    "id": "_m5YJ4a3tKDp",
    "outputId": "10c77155-896c-4f40-8a77-86c066263843"
   },
   "outputs": [
    {
     "name": "stderr",
     "output_type": "stream",
     "text": [
      "Device set to use cpu\n"
     ]
    },
    {
     "name": "stdout",
     "output_type": "stream",
     "text": [
      "Predicted Sentiment: NEGATIVE (score: 1.00)\n"
     ]
    }
   ],
   "source": [
    "#DistilBERT\n",
    "from transformers import pipeline\n",
    "\n",
    "# Load sentiment analysis pipeline\n",
    "classifier = pipeline(\"sentiment-analysis\", model=\"distilbert-base-uncased-finetuned-sst-2-english\")\n",
    "\n",
    "text = \"The app crashes every time I open it.\"\n",
    "\n",
    "result = classifier(text)[0]\n",
    "print(f\"Predicted Sentiment: {result['label']} (score: {result['score']:.2f})\")"
   ]
  },
  {
   "cell_type": "code",
   "execution_count": 22,
   "metadata": {},
   "outputs": [
    {
     "data": {
      "text/plain": [
       "['logistic_model_pipeline.pkl']"
      ]
     },
     "execution_count": 22,
     "metadata": {},
     "output_type": "execute_result"
    }
   ],
   "source": [
    "import joblib\n",
    "\n",
    "# Assuming you trained a pipeline named pipe_lr\n",
    "joblib.dump(pipe_lr, \"logistic_model_pipeline.pkl\")"
   ]
  },
  {
   "cell_type": "code",
   "execution_count": 23,
   "metadata": {},
   "outputs": [
    {
     "name": "stdout",
     "output_type": "stream",
     "text": [
      "✅ Prediction Complete\n",
      "Text: This app is amazing!\n",
      "Predicted Sentiment: positive (Confidence: 0.90)\n"
     ]
    }
   ],
   "source": [
    "import joblib\n",
    "import os\n",
    "\n",
    "# Path to the saved model\n",
    "model_path = \"logistic_model_pipeline.pkl\"\n",
    "\n",
    "# Check if model file exists\n",
    "if not os.path.exists(model_path):\n",
    "    print(f\"❌ Error: Model file '{model_path}' not found.\")\n",
    "    print(\"➡ Ensure the model is trained and saved correctly.\")\n",
    "else:\n",
    "    # Load the trained pipeline (includes TF-IDF + classifier)\n",
    "    pipe_lr = joblib.load(model_path)\n",
    "\n",
    "    # Sample input\n",
    "    text = [\"This app is amazing!\"]\n",
    "\n",
    "    # Predict class probabilities\n",
    "    probs = pipe_lr.predict_proba(text)\n",
    "    classes = pipe_lr.classes_\n",
    "\n",
    "    # Extract top prediction\n",
    "    predicted_index = probs[0].argmax()\n",
    "    predicted_label = classes[predicted_index]\n",
    "    confidence = probs[0][predicted_index]\n",
    "\n",
    "    print(\"✅ Prediction Complete\")\n",
    "    print(f\"Text: {text[0]}\")\n",
    "    print(f\"Predicted Sentiment: {predicted_label} (Confidence: {confidence:.2f})\")\n"
   ]
  },
  {
   "cell_type": "code",
   "execution_count": null,
   "metadata": {},
   "outputs": [],
   "source": []
  }
 ],
 "metadata": {
  "accelerator": "GPU",
  "colab": {
   "authorship_tag": "ABX9TyPqSgrc2MekEJxcosi06tbS",
   "gpuType": "T4",
   "provenance": []
  },
  "kernelspec": {
   "display_name": "Python [conda env:base] *",
   "language": "python",
   "name": "conda-base-py"
  },
  "language_info": {
   "codemirror_mode": {
    "name": "ipython",
    "version": 3
   },
   "file_extension": ".py",
   "mimetype": "text/x-python",
   "name": "python",
   "nbconvert_exporter": "python",
   "pygments_lexer": "ipython3",
   "version": "3.13.5"
  },
  "widgets": {
   "application/vnd.jupyter.widget-state+json": {
    "01a5061fdd9d4f35b086022701c8fef3": {
     "model_module": "@jupyter-widgets/base",
     "model_module_version": "1.2.0",
     "model_name": "LayoutModel",
     "state": {
      "_model_module": "@jupyter-widgets/base",
      "_model_module_version": "1.2.0",
      "_model_name": "LayoutModel",
      "_view_count": null,
      "_view_module": "@jupyter-widgets/base",
      "_view_module_version": "1.2.0",
      "_view_name": "LayoutView",
      "align_content": null,
      "align_items": null,
      "align_self": null,
      "border": null,
      "bottom": null,
      "display": null,
      "flex": null,
      "flex_flow": null,
      "grid_area": null,
      "grid_auto_columns": null,
      "grid_auto_flow": null,
      "grid_auto_rows": null,
      "grid_column": null,
      "grid_gap": null,
      "grid_row": null,
      "grid_template_areas": null,
      "grid_template_columns": null,
      "grid_template_rows": null,
      "height": null,
      "justify_content": null,
      "justify_items": null,
      "left": null,
      "margin": null,
      "max_height": null,
      "max_width": null,
      "min_height": null,
      "min_width": null,
      "object_fit": null,
      "object_position": null,
      "order": null,
      "overflow": null,
      "overflow_x": null,
      "overflow_y": null,
      "padding": null,
      "right": null,
      "top": null,
      "visibility": null,
      "width": null
     }
    },
    "02b67065aa8b4b5b928a138b2c9de309": {
     "model_module": "@jupyter-widgets/controls",
     "model_module_version": "1.5.0",
     "model_name": "HTMLModel",
     "state": {
      "_dom_classes": [],
      "_model_module": "@jupyter-widgets/controls",
      "_model_module_version": "1.5.0",
      "_model_name": "HTMLModel",
      "_view_count": null,
      "_view_module": "@jupyter-widgets/controls",
      "_view_module_version": "1.5.0",
      "_view_name": "HTMLView",
      "description": "",
      "description_tooltip": null,
      "layout": "IPY_MODEL_5fb13c9563464925aacfe7c7ae1fb662",
      "placeholder": "​",
      "style": "IPY_MODEL_0d286224337e47db95f827c884dbeb1e",
      "value": "tokenizer_config.json: 100%"
     }
    },
    "0341fd9e0d494a589e0d1effdfd5537a": {
     "model_module": "@jupyter-widgets/controls",
     "model_module_version": "1.5.0",
     "model_name": "DescriptionStyleModel",
     "state": {
      "_model_module": "@jupyter-widgets/controls",
      "_model_module_version": "1.5.0",
      "_model_name": "DescriptionStyleModel",
      "_view_count": null,
      "_view_module": "@jupyter-widgets/base",
      "_view_module_version": "1.2.0",
      "_view_name": "StyleView",
      "description_width": ""
     }
    },
    "0c8b76bd2ad24389949854b54d7c0e6a": {
     "model_module": "@jupyter-widgets/controls",
     "model_module_version": "1.5.0",
     "model_name": "HBoxModel",
     "state": {
      "_dom_classes": [],
      "_model_module": "@jupyter-widgets/controls",
      "_model_module_version": "1.5.0",
      "_model_name": "HBoxModel",
      "_view_count": null,
      "_view_module": "@jupyter-widgets/controls",
      "_view_module_version": "1.5.0",
      "_view_name": "HBoxView",
      "box_style": "",
      "children": [
       "IPY_MODEL_02b67065aa8b4b5b928a138b2c9de309",
       "IPY_MODEL_8887be0776e74729b0808adf5662cfb9",
       "IPY_MODEL_43fb3a21e785416a926275ecf0c44b11"
      ],
      "layout": "IPY_MODEL_1be050ad127e4dbdaad6504f6dec0830"
     }
    },
    "0d286224337e47db95f827c884dbeb1e": {
     "model_module": "@jupyter-widgets/controls",
     "model_module_version": "1.5.0",
     "model_name": "DescriptionStyleModel",
     "state": {
      "_model_module": "@jupyter-widgets/controls",
      "_model_module_version": "1.5.0",
      "_model_name": "DescriptionStyleModel",
      "_view_count": null,
      "_view_module": "@jupyter-widgets/base",
      "_view_module_version": "1.2.0",
      "_view_name": "StyleView",
      "description_width": ""
     }
    },
    "0efaa192b790488487d4d736dda811e7": {
     "model_module": "@jupyter-widgets/controls",
     "model_module_version": "1.5.0",
     "model_name": "HTMLModel",
     "state": {
      "_dom_classes": [],
      "_model_module": "@jupyter-widgets/controls",
      "_model_module_version": "1.5.0",
      "_model_name": "HTMLModel",
      "_view_count": null,
      "_view_module": "@jupyter-widgets/controls",
      "_view_module_version": "1.5.0",
      "_view_name": "HTMLView",
      "description": "",
      "description_tooltip": null,
      "layout": "IPY_MODEL_a89661ca1ec94aa5b97e1dc552fd8041",
      "placeholder": "​",
      "style": "IPY_MODEL_0341fd9e0d494a589e0d1effdfd5537a",
      "value": "config.json: 100%"
     }
    },
    "14c526b4390b4ec7bfae57b28d122516": {
     "model_module": "@jupyter-widgets/base",
     "model_module_version": "1.2.0",
     "model_name": "LayoutModel",
     "state": {
      "_model_module": "@jupyter-widgets/base",
      "_model_module_version": "1.2.0",
      "_model_name": "LayoutModel",
      "_view_count": null,
      "_view_module": "@jupyter-widgets/base",
      "_view_module_version": "1.2.0",
      "_view_name": "LayoutView",
      "align_content": null,
      "align_items": null,
      "align_self": null,
      "border": null,
      "bottom": null,
      "display": null,
      "flex": null,
      "flex_flow": null,
      "grid_area": null,
      "grid_auto_columns": null,
      "grid_auto_flow": null,
      "grid_auto_rows": null,
      "grid_column": null,
      "grid_gap": null,
      "grid_row": null,
      "grid_template_areas": null,
      "grid_template_columns": null,
      "grid_template_rows": null,
      "height": null,
      "justify_content": null,
      "justify_items": null,
      "left": null,
      "margin": null,
      "max_height": null,
      "max_width": null,
      "min_height": null,
      "min_width": null,
      "object_fit": null,
      "object_position": null,
      "order": null,
      "overflow": null,
      "overflow_x": null,
      "overflow_y": null,
      "padding": null,
      "right": null,
      "top": null,
      "visibility": null,
      "width": null
     }
    },
    "1be050ad127e4dbdaad6504f6dec0830": {
     "model_module": "@jupyter-widgets/base",
     "model_module_version": "1.2.0",
     "model_name": "LayoutModel",
     "state": {
      "_model_module": "@jupyter-widgets/base",
      "_model_module_version": "1.2.0",
      "_model_name": "LayoutModel",
      "_view_count": null,
      "_view_module": "@jupyter-widgets/base",
      "_view_module_version": "1.2.0",
      "_view_name": "LayoutView",
      "align_content": null,
      "align_items": null,
      "align_self": null,
      "border": null,
      "bottom": null,
      "display": null,
      "flex": null,
      "flex_flow": null,
      "grid_area": null,
      "grid_auto_columns": null,
      "grid_auto_flow": null,
      "grid_auto_rows": null,
      "grid_column": null,
      "grid_gap": null,
      "grid_row": null,
      "grid_template_areas": null,
      "grid_template_columns": null,
      "grid_template_rows": null,
      "height": null,
      "justify_content": null,
      "justify_items": null,
      "left": null,
      "margin": null,
      "max_height": null,
      "max_width": null,
      "min_height": null,
      "min_width": null,
      "object_fit": null,
      "object_position": null,
      "order": null,
      "overflow": null,
      "overflow_x": null,
      "overflow_y": null,
      "padding": null,
      "right": null,
      "top": null,
      "visibility": null,
      "width": null
     }
    },
    "1e923e76972442838a7e2663108640d7": {
     "model_module": "@jupyter-widgets/base",
     "model_module_version": "1.2.0",
     "model_name": "LayoutModel",
     "state": {
      "_model_module": "@jupyter-widgets/base",
      "_model_module_version": "1.2.0",
      "_model_name": "LayoutModel",
      "_view_count": null,
      "_view_module": "@jupyter-widgets/base",
      "_view_module_version": "1.2.0",
      "_view_name": "LayoutView",
      "align_content": null,
      "align_items": null,
      "align_self": null,
      "border": null,
      "bottom": null,
      "display": null,
      "flex": null,
      "flex_flow": null,
      "grid_area": null,
      "grid_auto_columns": null,
      "grid_auto_flow": null,
      "grid_auto_rows": null,
      "grid_column": null,
      "grid_gap": null,
      "grid_row": null,
      "grid_template_areas": null,
      "grid_template_columns": null,
      "grid_template_rows": null,
      "height": null,
      "justify_content": null,
      "justify_items": null,
      "left": null,
      "margin": null,
      "max_height": null,
      "max_width": null,
      "min_height": null,
      "min_width": null,
      "object_fit": null,
      "object_position": null,
      "order": null,
      "overflow": null,
      "overflow_x": null,
      "overflow_y": null,
      "padding": null,
      "right": null,
      "top": null,
      "visibility": null,
      "width": null
     }
    },
    "20a3274b26e34057a528c5b42fd0d5de": {
     "model_module": "@jupyter-widgets/controls",
     "model_module_version": "1.5.0",
     "model_name": "DescriptionStyleModel",
     "state": {
      "_model_module": "@jupyter-widgets/controls",
      "_model_module_version": "1.5.0",
      "_model_name": "DescriptionStyleModel",
      "_view_count": null,
      "_view_module": "@jupyter-widgets/base",
      "_view_module_version": "1.2.0",
      "_view_name": "StyleView",
      "description_width": ""
     }
    },
    "3696f519ff6f4bc3a39a5769f6e6c494": {
     "model_module": "@jupyter-widgets/controls",
     "model_module_version": "1.5.0",
     "model_name": "HTMLModel",
     "state": {
      "_dom_classes": [],
      "_model_module": "@jupyter-widgets/controls",
      "_model_module_version": "1.5.0",
      "_model_name": "HTMLModel",
      "_view_count": null,
      "_view_module": "@jupyter-widgets/controls",
      "_view_module_version": "1.5.0",
      "_view_name": "HTMLView",
      "description": "",
      "description_tooltip": null,
      "layout": "IPY_MODEL_9c096e1113b14d968225cf97b7f142f5",
      "placeholder": "​",
      "style": "IPY_MODEL_aa3880f735c940008bc3e93e35c7a196",
      "value": "model.safetensors: 100%"
     }
    },
    "38651e62f3fc4b63b868570d168fe33d": {
     "model_module": "@jupyter-widgets/base",
     "model_module_version": "1.2.0",
     "model_name": "LayoutModel",
     "state": {
      "_model_module": "@jupyter-widgets/base",
      "_model_module_version": "1.2.0",
      "_model_name": "LayoutModel",
      "_view_count": null,
      "_view_module": "@jupyter-widgets/base",
      "_view_module_version": "1.2.0",
      "_view_name": "LayoutView",
      "align_content": null,
      "align_items": null,
      "align_self": null,
      "border": null,
      "bottom": null,
      "display": null,
      "flex": null,
      "flex_flow": null,
      "grid_area": null,
      "grid_auto_columns": null,
      "grid_auto_flow": null,
      "grid_auto_rows": null,
      "grid_column": null,
      "grid_gap": null,
      "grid_row": null,
      "grid_template_areas": null,
      "grid_template_columns": null,
      "grid_template_rows": null,
      "height": null,
      "justify_content": null,
      "justify_items": null,
      "left": null,
      "margin": null,
      "max_height": null,
      "max_width": null,
      "min_height": null,
      "min_width": null,
      "object_fit": null,
      "object_position": null,
      "order": null,
      "overflow": null,
      "overflow_x": null,
      "overflow_y": null,
      "padding": null,
      "right": null,
      "top": null,
      "visibility": null,
      "width": null
     }
    },
    "40b7cebd3b32430d892eb8f2a048c747": {
     "model_module": "@jupyter-widgets/controls",
     "model_module_version": "1.5.0",
     "model_name": "DescriptionStyleModel",
     "state": {
      "_model_module": "@jupyter-widgets/controls",
      "_model_module_version": "1.5.0",
      "_model_name": "DescriptionStyleModel",
      "_view_count": null,
      "_view_module": "@jupyter-widgets/base",
      "_view_module_version": "1.2.0",
      "_view_name": "StyleView",
      "description_width": ""
     }
    },
    "43fb3a21e785416a926275ecf0c44b11": {
     "model_module": "@jupyter-widgets/controls",
     "model_module_version": "1.5.0",
     "model_name": "HTMLModel",
     "state": {
      "_dom_classes": [],
      "_model_module": "@jupyter-widgets/controls",
      "_model_module_version": "1.5.0",
      "_model_name": "HTMLModel",
      "_view_count": null,
      "_view_module": "@jupyter-widgets/controls",
      "_view_module_version": "1.5.0",
      "_view_name": "HTMLView",
      "description": "",
      "description_tooltip": null,
      "layout": "IPY_MODEL_77c53153c88340919cac6cd22710b17f",
      "placeholder": "​",
      "style": "IPY_MODEL_20a3274b26e34057a528c5b42fd0d5de",
      "value": " 48.0/48.0 [00:00&lt;00:00, 1.10kB/s]"
     }
    },
    "5fb13c9563464925aacfe7c7ae1fb662": {
     "model_module": "@jupyter-widgets/base",
     "model_module_version": "1.2.0",
     "model_name": "LayoutModel",
     "state": {
      "_model_module": "@jupyter-widgets/base",
      "_model_module_version": "1.2.0",
      "_model_name": "LayoutModel",
      "_view_count": null,
      "_view_module": "@jupyter-widgets/base",
      "_view_module_version": "1.2.0",
      "_view_name": "LayoutView",
      "align_content": null,
      "align_items": null,
      "align_self": null,
      "border": null,
      "bottom": null,
      "display": null,
      "flex": null,
      "flex_flow": null,
      "grid_area": null,
      "grid_auto_columns": null,
      "grid_auto_flow": null,
      "grid_auto_rows": null,
      "grid_column": null,
      "grid_gap": null,
      "grid_row": null,
      "grid_template_areas": null,
      "grid_template_columns": null,
      "grid_template_rows": null,
      "height": null,
      "justify_content": null,
      "justify_items": null,
      "left": null,
      "margin": null,
      "max_height": null,
      "max_width": null,
      "min_height": null,
      "min_width": null,
      "object_fit": null,
      "object_position": null,
      "order": null,
      "overflow": null,
      "overflow_x": null,
      "overflow_y": null,
      "padding": null,
      "right": null,
      "top": null,
      "visibility": null,
      "width": null
     }
    },
    "5fbba9605f33422f8f1d7459366cb5cc": {
     "model_module": "@jupyter-widgets/controls",
     "model_module_version": "1.5.0",
     "model_name": "HBoxModel",
     "state": {
      "_dom_classes": [],
      "_model_module": "@jupyter-widgets/controls",
      "_model_module_version": "1.5.0",
      "_model_name": "HBoxModel",
      "_view_count": null,
      "_view_module": "@jupyter-widgets/controls",
      "_view_module_version": "1.5.0",
      "_view_name": "HBoxView",
      "box_style": "",
      "children": [
       "IPY_MODEL_0efaa192b790488487d4d736dda811e7",
       "IPY_MODEL_6acb546af9cb4063828c87c0bc6521e3",
       "IPY_MODEL_db5468e9847349c59150df289cc78d43"
      ],
      "layout": "IPY_MODEL_9f88869db5094508afeab3092c8cbd01"
     }
    },
    "66bdfee7e07e4037a2e64a885176e41c": {
     "model_module": "@jupyter-widgets/controls",
     "model_module_version": "1.5.0",
     "model_name": "HTMLModel",
     "state": {
      "_dom_classes": [],
      "_model_module": "@jupyter-widgets/controls",
      "_model_module_version": "1.5.0",
      "_model_name": "HTMLModel",
      "_view_count": null,
      "_view_module": "@jupyter-widgets/controls",
      "_view_module_version": "1.5.0",
      "_view_name": "HTMLView",
      "description": "",
      "description_tooltip": null,
      "layout": "IPY_MODEL_38651e62f3fc4b63b868570d168fe33d",
      "placeholder": "​",
      "style": "IPY_MODEL_c32edc2fe9614748b39e3e0a042523b0",
      "value": " 232k/232k [00:00&lt;00:00, 13.7MB/s]"
     }
    },
    "66d4c43c1c574012b9f6767171c82756": {
     "model_module": "@jupyter-widgets/controls",
     "model_module_version": "1.5.0",
     "model_name": "ProgressStyleModel",
     "state": {
      "_model_module": "@jupyter-widgets/controls",
      "_model_module_version": "1.5.0",
      "_model_name": "ProgressStyleModel",
      "_view_count": null,
      "_view_module": "@jupyter-widgets/base",
      "_view_module_version": "1.2.0",
      "_view_name": "StyleView",
      "bar_color": null,
      "description_width": ""
     }
    },
    "6acb546af9cb4063828c87c0bc6521e3": {
     "model_module": "@jupyter-widgets/controls",
     "model_module_version": "1.5.0",
     "model_name": "FloatProgressModel",
     "state": {
      "_dom_classes": [],
      "_model_module": "@jupyter-widgets/controls",
      "_model_module_version": "1.5.0",
      "_model_name": "FloatProgressModel",
      "_view_count": null,
      "_view_module": "@jupyter-widgets/controls",
      "_view_module_version": "1.5.0",
      "_view_name": "ProgressView",
      "bar_style": "success",
      "description": "",
      "description_tooltip": null,
      "layout": "IPY_MODEL_d99dc4f309e74ae3a128868b8f5913f2",
      "max": 629,
      "min": 0,
      "orientation": "horizontal",
      "style": "IPY_MODEL_c3030ee135794783ab842076a1788392",
      "value": 629
     }
    },
    "6b75ed3e3d5b4cc6bf8d9583fa8be5a4": {
     "model_module": "@jupyter-widgets/controls",
     "model_module_version": "1.5.0",
     "model_name": "FloatProgressModel",
     "state": {
      "_dom_classes": [],
      "_model_module": "@jupyter-widgets/controls",
      "_model_module_version": "1.5.0",
      "_model_name": "FloatProgressModel",
      "_view_count": null,
      "_view_module": "@jupyter-widgets/controls",
      "_view_module_version": "1.5.0",
      "_view_name": "ProgressView",
      "bar_style": "success",
      "description": "",
      "description_tooltip": null,
      "layout": "IPY_MODEL_aea1f5e0f544482189b3221a31987caa",
      "max": 267832558,
      "min": 0,
      "orientation": "horizontal",
      "style": "IPY_MODEL_f802affcfc534b88a2e151b12ae5e676",
      "value": 267832558
     }
    },
    "77c53153c88340919cac6cd22710b17f": {
     "model_module": "@jupyter-widgets/base",
     "model_module_version": "1.2.0",
     "model_name": "LayoutModel",
     "state": {
      "_model_module": "@jupyter-widgets/base",
      "_model_module_version": "1.2.0",
      "_model_name": "LayoutModel",
      "_view_count": null,
      "_view_module": "@jupyter-widgets/base",
      "_view_module_version": "1.2.0",
      "_view_name": "LayoutView",
      "align_content": null,
      "align_items": null,
      "align_self": null,
      "border": null,
      "bottom": null,
      "display": null,
      "flex": null,
      "flex_flow": null,
      "grid_area": null,
      "grid_auto_columns": null,
      "grid_auto_flow": null,
      "grid_auto_rows": null,
      "grid_column": null,
      "grid_gap": null,
      "grid_row": null,
      "grid_template_areas": null,
      "grid_template_columns": null,
      "grid_template_rows": null,
      "height": null,
      "justify_content": null,
      "justify_items": null,
      "left": null,
      "margin": null,
      "max_height": null,
      "max_width": null,
      "min_height": null,
      "min_width": null,
      "object_fit": null,
      "object_position": null,
      "order": null,
      "overflow": null,
      "overflow_x": null,
      "overflow_y": null,
      "padding": null,
      "right": null,
      "top": null,
      "visibility": null,
      "width": null
     }
    },
    "7e9424fb75bf4ca68e942ab226711b3f": {
     "model_module": "@jupyter-widgets/base",
     "model_module_version": "1.2.0",
     "model_name": "LayoutModel",
     "state": {
      "_model_module": "@jupyter-widgets/base",
      "_model_module_version": "1.2.0",
      "_model_name": "LayoutModel",
      "_view_count": null,
      "_view_module": "@jupyter-widgets/base",
      "_view_module_version": "1.2.0",
      "_view_name": "LayoutView",
      "align_content": null,
      "align_items": null,
      "align_self": null,
      "border": null,
      "bottom": null,
      "display": null,
      "flex": null,
      "flex_flow": null,
      "grid_area": null,
      "grid_auto_columns": null,
      "grid_auto_flow": null,
      "grid_auto_rows": null,
      "grid_column": null,
      "grid_gap": null,
      "grid_row": null,
      "grid_template_areas": null,
      "grid_template_columns": null,
      "grid_template_rows": null,
      "height": null,
      "justify_content": null,
      "justify_items": null,
      "left": null,
      "margin": null,
      "max_height": null,
      "max_width": null,
      "min_height": null,
      "min_width": null,
      "object_fit": null,
      "object_position": null,
      "order": null,
      "overflow": null,
      "overflow_x": null,
      "overflow_y": null,
      "padding": null,
      "right": null,
      "top": null,
      "visibility": null,
      "width": null
     }
    },
    "8887be0776e74729b0808adf5662cfb9": {
     "model_module": "@jupyter-widgets/controls",
     "model_module_version": "1.5.0",
     "model_name": "FloatProgressModel",
     "state": {
      "_dom_classes": [],
      "_model_module": "@jupyter-widgets/controls",
      "_model_module_version": "1.5.0",
      "_model_name": "FloatProgressModel",
      "_view_count": null,
      "_view_module": "@jupyter-widgets/controls",
      "_view_module_version": "1.5.0",
      "_view_name": "ProgressView",
      "bar_style": "success",
      "description": "",
      "description_tooltip": null,
      "layout": "IPY_MODEL_ade923ecc0ca48dcb0e1bbaeee844969",
      "max": 48,
      "min": 0,
      "orientation": "horizontal",
      "style": "IPY_MODEL_f640299abdff420fb715b2c7d8f7a213",
      "value": 48
     }
    },
    "8ddccb36e0c646b486c5860660d7b2ec": {
     "model_module": "@jupyter-widgets/controls",
     "model_module_version": "1.5.0",
     "model_name": "HBoxModel",
     "state": {
      "_dom_classes": [],
      "_model_module": "@jupyter-widgets/controls",
      "_model_module_version": "1.5.0",
      "_model_name": "HBoxModel",
      "_view_count": null,
      "_view_module": "@jupyter-widgets/controls",
      "_view_module_version": "1.5.0",
      "_view_name": "HBoxView",
      "box_style": "",
      "children": [
       "IPY_MODEL_3696f519ff6f4bc3a39a5769f6e6c494",
       "IPY_MODEL_6b75ed3e3d5b4cc6bf8d9583fa8be5a4",
       "IPY_MODEL_906dd48ea36e413dbbc7699dbbf5f896"
      ],
      "layout": "IPY_MODEL_e9d4253945cb436a96b7456f74b34be9"
     }
    },
    "906dd48ea36e413dbbc7699dbbf5f896": {
     "model_module": "@jupyter-widgets/controls",
     "model_module_version": "1.5.0",
     "model_name": "HTMLModel",
     "state": {
      "_dom_classes": [],
      "_model_module": "@jupyter-widgets/controls",
      "_model_module_version": "1.5.0",
      "_model_name": "HTMLModel",
      "_view_count": null,
      "_view_module": "@jupyter-widgets/controls",
      "_view_module_version": "1.5.0",
      "_view_name": "HTMLView",
      "description": "",
      "description_tooltip": null,
      "layout": "IPY_MODEL_14c526b4390b4ec7bfae57b28d122516",
      "placeholder": "​",
      "style": "IPY_MODEL_a4d1d97c1b9f49d284d9597a862fff4c",
      "value": " 268M/268M [00:04&lt;00:00, 82.2MB/s]"
     }
    },
    "9c096e1113b14d968225cf97b7f142f5": {
     "model_module": "@jupyter-widgets/base",
     "model_module_version": "1.2.0",
     "model_name": "LayoutModel",
     "state": {
      "_model_module": "@jupyter-widgets/base",
      "_model_module_version": "1.2.0",
      "_model_name": "LayoutModel",
      "_view_count": null,
      "_view_module": "@jupyter-widgets/base",
      "_view_module_version": "1.2.0",
      "_view_name": "LayoutView",
      "align_content": null,
      "align_items": null,
      "align_self": null,
      "border": null,
      "bottom": null,
      "display": null,
      "flex": null,
      "flex_flow": null,
      "grid_area": null,
      "grid_auto_columns": null,
      "grid_auto_flow": null,
      "grid_auto_rows": null,
      "grid_column": null,
      "grid_gap": null,
      "grid_row": null,
      "grid_template_areas": null,
      "grid_template_columns": null,
      "grid_template_rows": null,
      "height": null,
      "justify_content": null,
      "justify_items": null,
      "left": null,
      "margin": null,
      "max_height": null,
      "max_width": null,
      "min_height": null,
      "min_width": null,
      "object_fit": null,
      "object_position": null,
      "order": null,
      "overflow": null,
      "overflow_x": null,
      "overflow_y": null,
      "padding": null,
      "right": null,
      "top": null,
      "visibility": null,
      "width": null
     }
    },
    "9f88869db5094508afeab3092c8cbd01": {
     "model_module": "@jupyter-widgets/base",
     "model_module_version": "1.2.0",
     "model_name": "LayoutModel",
     "state": {
      "_model_module": "@jupyter-widgets/base",
      "_model_module_version": "1.2.0",
      "_model_name": "LayoutModel",
      "_view_count": null,
      "_view_module": "@jupyter-widgets/base",
      "_view_module_version": "1.2.0",
      "_view_name": "LayoutView",
      "align_content": null,
      "align_items": null,
      "align_self": null,
      "border": null,
      "bottom": null,
      "display": null,
      "flex": null,
      "flex_flow": null,
      "grid_area": null,
      "grid_auto_columns": null,
      "grid_auto_flow": null,
      "grid_auto_rows": null,
      "grid_column": null,
      "grid_gap": null,
      "grid_row": null,
      "grid_template_areas": null,
      "grid_template_columns": null,
      "grid_template_rows": null,
      "height": null,
      "justify_content": null,
      "justify_items": null,
      "left": null,
      "margin": null,
      "max_height": null,
      "max_width": null,
      "min_height": null,
      "min_width": null,
      "object_fit": null,
      "object_position": null,
      "order": null,
      "overflow": null,
      "overflow_x": null,
      "overflow_y": null,
      "padding": null,
      "right": null,
      "top": null,
      "visibility": null,
      "width": null
     }
    },
    "a4d1d97c1b9f49d284d9597a862fff4c": {
     "model_module": "@jupyter-widgets/controls",
     "model_module_version": "1.5.0",
     "model_name": "DescriptionStyleModel",
     "state": {
      "_model_module": "@jupyter-widgets/controls",
      "_model_module_version": "1.5.0",
      "_model_name": "DescriptionStyleModel",
      "_view_count": null,
      "_view_module": "@jupyter-widgets/base",
      "_view_module_version": "1.2.0",
      "_view_name": "StyleView",
      "description_width": ""
     }
    },
    "a89661ca1ec94aa5b97e1dc552fd8041": {
     "model_module": "@jupyter-widgets/base",
     "model_module_version": "1.2.0",
     "model_name": "LayoutModel",
     "state": {
      "_model_module": "@jupyter-widgets/base",
      "_model_module_version": "1.2.0",
      "_model_name": "LayoutModel",
      "_view_count": null,
      "_view_module": "@jupyter-widgets/base",
      "_view_module_version": "1.2.0",
      "_view_name": "LayoutView",
      "align_content": null,
      "align_items": null,
      "align_self": null,
      "border": null,
      "bottom": null,
      "display": null,
      "flex": null,
      "flex_flow": null,
      "grid_area": null,
      "grid_auto_columns": null,
      "grid_auto_flow": null,
      "grid_auto_rows": null,
      "grid_column": null,
      "grid_gap": null,
      "grid_row": null,
      "grid_template_areas": null,
      "grid_template_columns": null,
      "grid_template_rows": null,
      "height": null,
      "justify_content": null,
      "justify_items": null,
      "left": null,
      "margin": null,
      "max_height": null,
      "max_width": null,
      "min_height": null,
      "min_width": null,
      "object_fit": null,
      "object_position": null,
      "order": null,
      "overflow": null,
      "overflow_x": null,
      "overflow_y": null,
      "padding": null,
      "right": null,
      "top": null,
      "visibility": null,
      "width": null
     }
    },
    "aa3880f735c940008bc3e93e35c7a196": {
     "model_module": "@jupyter-widgets/controls",
     "model_module_version": "1.5.0",
     "model_name": "DescriptionStyleModel",
     "state": {
      "_model_module": "@jupyter-widgets/controls",
      "_model_module_version": "1.5.0",
      "_model_name": "DescriptionStyleModel",
      "_view_count": null,
      "_view_module": "@jupyter-widgets/base",
      "_view_module_version": "1.2.0",
      "_view_name": "StyleView",
      "description_width": ""
     }
    },
    "ade923ecc0ca48dcb0e1bbaeee844969": {
     "model_module": "@jupyter-widgets/base",
     "model_module_version": "1.2.0",
     "model_name": "LayoutModel",
     "state": {
      "_model_module": "@jupyter-widgets/base",
      "_model_module_version": "1.2.0",
      "_model_name": "LayoutModel",
      "_view_count": null,
      "_view_module": "@jupyter-widgets/base",
      "_view_module_version": "1.2.0",
      "_view_name": "LayoutView",
      "align_content": null,
      "align_items": null,
      "align_self": null,
      "border": null,
      "bottom": null,
      "display": null,
      "flex": null,
      "flex_flow": null,
      "grid_area": null,
      "grid_auto_columns": null,
      "grid_auto_flow": null,
      "grid_auto_rows": null,
      "grid_column": null,
      "grid_gap": null,
      "grid_row": null,
      "grid_template_areas": null,
      "grid_template_columns": null,
      "grid_template_rows": null,
      "height": null,
      "justify_content": null,
      "justify_items": null,
      "left": null,
      "margin": null,
      "max_height": null,
      "max_width": null,
      "min_height": null,
      "min_width": null,
      "object_fit": null,
      "object_position": null,
      "order": null,
      "overflow": null,
      "overflow_x": null,
      "overflow_y": null,
      "padding": null,
      "right": null,
      "top": null,
      "visibility": null,
      "width": null
     }
    },
    "aea1f5e0f544482189b3221a31987caa": {
     "model_module": "@jupyter-widgets/base",
     "model_module_version": "1.2.0",
     "model_name": "LayoutModel",
     "state": {
      "_model_module": "@jupyter-widgets/base",
      "_model_module_version": "1.2.0",
      "_model_name": "LayoutModel",
      "_view_count": null,
      "_view_module": "@jupyter-widgets/base",
      "_view_module_version": "1.2.0",
      "_view_name": "LayoutView",
      "align_content": null,
      "align_items": null,
      "align_self": null,
      "border": null,
      "bottom": null,
      "display": null,
      "flex": null,
      "flex_flow": null,
      "grid_area": null,
      "grid_auto_columns": null,
      "grid_auto_flow": null,
      "grid_auto_rows": null,
      "grid_column": null,
      "grid_gap": null,
      "grid_row": null,
      "grid_template_areas": null,
      "grid_template_columns": null,
      "grid_template_rows": null,
      "height": null,
      "justify_content": null,
      "justify_items": null,
      "left": null,
      "margin": null,
      "max_height": null,
      "max_width": null,
      "min_height": null,
      "min_width": null,
      "object_fit": null,
      "object_position": null,
      "order": null,
      "overflow": null,
      "overflow_x": null,
      "overflow_y": null,
      "padding": null,
      "right": null,
      "top": null,
      "visibility": null,
      "width": null
     }
    },
    "ba32bdd01557456b83fae66e4caf822b": {
     "model_module": "@jupyter-widgets/controls",
     "model_module_version": "1.5.0",
     "model_name": "HBoxModel",
     "state": {
      "_dom_classes": [],
      "_model_module": "@jupyter-widgets/controls",
      "_model_module_version": "1.5.0",
      "_model_name": "HBoxModel",
      "_view_count": null,
      "_view_module": "@jupyter-widgets/controls",
      "_view_module_version": "1.5.0",
      "_view_name": "HBoxView",
      "box_style": "",
      "children": [
       "IPY_MODEL_f8e30a0ff6a841278cf34545dbd4c96a",
       "IPY_MODEL_cb8311b157144ecb8e8f944b72e0ace7",
       "IPY_MODEL_66bdfee7e07e4037a2e64a885176e41c"
      ],
      "layout": "IPY_MODEL_01a5061fdd9d4f35b086022701c8fef3"
     }
    },
    "bdba969238a141aaa8fc4c0f05d8653e": {
     "model_module": "@jupyter-widgets/base",
     "model_module_version": "1.2.0",
     "model_name": "LayoutModel",
     "state": {
      "_model_module": "@jupyter-widgets/base",
      "_model_module_version": "1.2.0",
      "_model_name": "LayoutModel",
      "_view_count": null,
      "_view_module": "@jupyter-widgets/base",
      "_view_module_version": "1.2.0",
      "_view_name": "LayoutView",
      "align_content": null,
      "align_items": null,
      "align_self": null,
      "border": null,
      "bottom": null,
      "display": null,
      "flex": null,
      "flex_flow": null,
      "grid_area": null,
      "grid_auto_columns": null,
      "grid_auto_flow": null,
      "grid_auto_rows": null,
      "grid_column": null,
      "grid_gap": null,
      "grid_row": null,
      "grid_template_areas": null,
      "grid_template_columns": null,
      "grid_template_rows": null,
      "height": null,
      "justify_content": null,
      "justify_items": null,
      "left": null,
      "margin": null,
      "max_height": null,
      "max_width": null,
      "min_height": null,
      "min_width": null,
      "object_fit": null,
      "object_position": null,
      "order": null,
      "overflow": null,
      "overflow_x": null,
      "overflow_y": null,
      "padding": null,
      "right": null,
      "top": null,
      "visibility": null,
      "width": null
     }
    },
    "c3030ee135794783ab842076a1788392": {
     "model_module": "@jupyter-widgets/controls",
     "model_module_version": "1.5.0",
     "model_name": "ProgressStyleModel",
     "state": {
      "_model_module": "@jupyter-widgets/controls",
      "_model_module_version": "1.5.0",
      "_model_name": "ProgressStyleModel",
      "_view_count": null,
      "_view_module": "@jupyter-widgets/base",
      "_view_module_version": "1.2.0",
      "_view_name": "StyleView",
      "bar_color": null,
      "description_width": ""
     }
    },
    "c32edc2fe9614748b39e3e0a042523b0": {
     "model_module": "@jupyter-widgets/controls",
     "model_module_version": "1.5.0",
     "model_name": "DescriptionStyleModel",
     "state": {
      "_model_module": "@jupyter-widgets/controls",
      "_model_module_version": "1.5.0",
      "_model_name": "DescriptionStyleModel",
      "_view_count": null,
      "_view_module": "@jupyter-widgets/base",
      "_view_module_version": "1.2.0",
      "_view_name": "StyleView",
      "description_width": ""
     }
    },
    "cb8311b157144ecb8e8f944b72e0ace7": {
     "model_module": "@jupyter-widgets/controls",
     "model_module_version": "1.5.0",
     "model_name": "FloatProgressModel",
     "state": {
      "_dom_classes": [],
      "_model_module": "@jupyter-widgets/controls",
      "_model_module_version": "1.5.0",
      "_model_name": "FloatProgressModel",
      "_view_count": null,
      "_view_module": "@jupyter-widgets/controls",
      "_view_module_version": "1.5.0",
      "_view_name": "ProgressView",
      "bar_style": "success",
      "description": "",
      "description_tooltip": null,
      "layout": "IPY_MODEL_7e9424fb75bf4ca68e942ab226711b3f",
      "max": 231508,
      "min": 0,
      "orientation": "horizontal",
      "style": "IPY_MODEL_66d4c43c1c574012b9f6767171c82756",
      "value": 231508
     }
    },
    "d99dc4f309e74ae3a128868b8f5913f2": {
     "model_module": "@jupyter-widgets/base",
     "model_module_version": "1.2.0",
     "model_name": "LayoutModel",
     "state": {
      "_model_module": "@jupyter-widgets/base",
      "_model_module_version": "1.2.0",
      "_model_name": "LayoutModel",
      "_view_count": null,
      "_view_module": "@jupyter-widgets/base",
      "_view_module_version": "1.2.0",
      "_view_name": "LayoutView",
      "align_content": null,
      "align_items": null,
      "align_self": null,
      "border": null,
      "bottom": null,
      "display": null,
      "flex": null,
      "flex_flow": null,
      "grid_area": null,
      "grid_auto_columns": null,
      "grid_auto_flow": null,
      "grid_auto_rows": null,
      "grid_column": null,
      "grid_gap": null,
      "grid_row": null,
      "grid_template_areas": null,
      "grid_template_columns": null,
      "grid_template_rows": null,
      "height": null,
      "justify_content": null,
      "justify_items": null,
      "left": null,
      "margin": null,
      "max_height": null,
      "max_width": null,
      "min_height": null,
      "min_width": null,
      "object_fit": null,
      "object_position": null,
      "order": null,
      "overflow": null,
      "overflow_x": null,
      "overflow_y": null,
      "padding": null,
      "right": null,
      "top": null,
      "visibility": null,
      "width": null
     }
    },
    "db5468e9847349c59150df289cc78d43": {
     "model_module": "@jupyter-widgets/controls",
     "model_module_version": "1.5.0",
     "model_name": "HTMLModel",
     "state": {
      "_dom_classes": [],
      "_model_module": "@jupyter-widgets/controls",
      "_model_module_version": "1.5.0",
      "_model_name": "HTMLModel",
      "_view_count": null,
      "_view_module": "@jupyter-widgets/controls",
      "_view_module_version": "1.5.0",
      "_view_name": "HTMLView",
      "description": "",
      "description_tooltip": null,
      "layout": "IPY_MODEL_bdba969238a141aaa8fc4c0f05d8653e",
      "placeholder": "​",
      "style": "IPY_MODEL_ec848cb51a484992bf7c77b70a86f45f",
      "value": " 629/629 [00:00&lt;00:00, 22.1kB/s]"
     }
    },
    "e9d4253945cb436a96b7456f74b34be9": {
     "model_module": "@jupyter-widgets/base",
     "model_module_version": "1.2.0",
     "model_name": "LayoutModel",
     "state": {
      "_model_module": "@jupyter-widgets/base",
      "_model_module_version": "1.2.0",
      "_model_name": "LayoutModel",
      "_view_count": null,
      "_view_module": "@jupyter-widgets/base",
      "_view_module_version": "1.2.0",
      "_view_name": "LayoutView",
      "align_content": null,
      "align_items": null,
      "align_self": null,
      "border": null,
      "bottom": null,
      "display": null,
      "flex": null,
      "flex_flow": null,
      "grid_area": null,
      "grid_auto_columns": null,
      "grid_auto_flow": null,
      "grid_auto_rows": null,
      "grid_column": null,
      "grid_gap": null,
      "grid_row": null,
      "grid_template_areas": null,
      "grid_template_columns": null,
      "grid_template_rows": null,
      "height": null,
      "justify_content": null,
      "justify_items": null,
      "left": null,
      "margin": null,
      "max_height": null,
      "max_width": null,
      "min_height": null,
      "min_width": null,
      "object_fit": null,
      "object_position": null,
      "order": null,
      "overflow": null,
      "overflow_x": null,
      "overflow_y": null,
      "padding": null,
      "right": null,
      "top": null,
      "visibility": null,
      "width": null
     }
    },
    "ec848cb51a484992bf7c77b70a86f45f": {
     "model_module": "@jupyter-widgets/controls",
     "model_module_version": "1.5.0",
     "model_name": "DescriptionStyleModel",
     "state": {
      "_model_module": "@jupyter-widgets/controls",
      "_model_module_version": "1.5.0",
      "_model_name": "DescriptionStyleModel",
      "_view_count": null,
      "_view_module": "@jupyter-widgets/base",
      "_view_module_version": "1.2.0",
      "_view_name": "StyleView",
      "description_width": ""
     }
    },
    "f640299abdff420fb715b2c7d8f7a213": {
     "model_module": "@jupyter-widgets/controls",
     "model_module_version": "1.5.0",
     "model_name": "ProgressStyleModel",
     "state": {
      "_model_module": "@jupyter-widgets/controls",
      "_model_module_version": "1.5.0",
      "_model_name": "ProgressStyleModel",
      "_view_count": null,
      "_view_module": "@jupyter-widgets/base",
      "_view_module_version": "1.2.0",
      "_view_name": "StyleView",
      "bar_color": null,
      "description_width": ""
     }
    },
    "f802affcfc534b88a2e151b12ae5e676": {
     "model_module": "@jupyter-widgets/controls",
     "model_module_version": "1.5.0",
     "model_name": "ProgressStyleModel",
     "state": {
      "_model_module": "@jupyter-widgets/controls",
      "_model_module_version": "1.5.0",
      "_model_name": "ProgressStyleModel",
      "_view_count": null,
      "_view_module": "@jupyter-widgets/base",
      "_view_module_version": "1.2.0",
      "_view_name": "StyleView",
      "bar_color": null,
      "description_width": ""
     }
    },
    "f8e30a0ff6a841278cf34545dbd4c96a": {
     "model_module": "@jupyter-widgets/controls",
     "model_module_version": "1.5.0",
     "model_name": "HTMLModel",
     "state": {
      "_dom_classes": [],
      "_model_module": "@jupyter-widgets/controls",
      "_model_module_version": "1.5.0",
      "_model_name": "HTMLModel",
      "_view_count": null,
      "_view_module": "@jupyter-widgets/controls",
      "_view_module_version": "1.5.0",
      "_view_name": "HTMLView",
      "description": "",
      "description_tooltip": null,
      "layout": "IPY_MODEL_1e923e76972442838a7e2663108640d7",
      "placeholder": "​",
      "style": "IPY_MODEL_40b7cebd3b32430d892eb8f2a048c747",
      "value": "vocab.txt: 100%"
     }
    }
   }
  }
 },
 "nbformat": 4,
 "nbformat_minor": 4
}
